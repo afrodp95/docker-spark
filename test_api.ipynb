{
 "cells": [
  {
   "cell_type": "code",
   "execution_count": 14,
   "metadata": {},
   "outputs": [
    {
     "data": {
      "text/plain": [
       "{'_id': {'$oid': '611d9fe1049812a18b13a8dd'},\n",
       " 'topic': 'cultura',\n",
       " 'text': '',\n",
       " 'title': \"El vallenato con guitarra de los hijos de 'La celosa'\",\n",
       " 'year': 2020,\n",
       " 'month': 12,\n",
       " 'day': 7,\n",
       " 'key': 'cultura-musica-y-libros-vallenatos-de-el-trio-de-oro-32677',\n",
       " 'url': 'http://www.eltiempo.com//cultura/musica-y-libros/vallenatos-de-el-trio-de-oro-32677'}"
      ]
     },
     "execution_count": 14,
     "metadata": {},
     "output_type": "execute_result"
    }
   ],
   "source": [
    "import json\n",
    "import requests\n",
    "\n",
    "with open('news_new_format_2021-08-18.json','r',encoding='utf8') as f:\n",
    "    news = f.readlines()\n",
    "\n",
    "news = [json.loads(a.replace('\\n','')) for a in news]\n",
    "news[0]"
   ]
  },
  {
   "cell_type": "code",
   "execution_count": 15,
   "metadata": {},
   "outputs": [],
   "source": [
    "all_texts = {\"texts\":[a['text'] for a in news][0:1000]}\n",
    "#del(news)"
   ]
  },
  {
   "cell_type": "code",
   "execution_count": 16,
   "metadata": {},
   "outputs": [
    {
     "data": {
      "text/plain": [
       "1000"
      ]
     },
     "execution_count": 16,
     "metadata": {},
     "output_type": "execute_result"
    }
   ],
   "source": [
    "len(all_texts['texts'])"
   ]
  },
  {
   "cell_type": "code",
   "execution_count": 17,
   "metadata": {},
   "outputs": [],
   "source": [
    "results = json.loads(\n",
    "    requests.post(url=\"http://172.17.0.2:8081/clean_texts\",\n",
    "                  data=json.dumps(all_texts),\n",
    "                  headers={\"Content-Type\":\"application/json\"}).text\n",
    "    )"
   ]
  },
  {
   "cell_type": "code",
   "execution_count": 18,
   "metadata": {},
   "outputs": [
    {
     "data": {
      "text/plain": [
       "['cleaned_texts']"
      ]
     },
     "execution_count": 18,
     "metadata": {},
     "output_type": "execute_result"
    }
   ],
   "source": [
    "list(results.keys())"
   ]
  },
  {
   "cell_type": "code",
   "execution_count": 22,
   "metadata": {},
   "outputs": [
    {
     "data": {
      "text/plain": [
       "\" OBJ24062586_13 by Yhonatan Loaiza on ScribdEl teatro colombiano se ha convertido en un producto apetecido en el exterior, no solo por los grupos que están en giras permanentes, sino por la tendencia de montar y traducir piezas de nuestros autores nacionales en otros países. Hace poco, por ejemplo, se estrenó en Uruguay una versión de 'Labio de liebre', de Fabio Rubiano, en la prestigiosa Comedia Nacional. Rubiano es uno de los autores más montados en el extranjero, y una de las piezas más recreadas es 'Guadalupe años sin cuenta', el clásico de La Candelaria. Esta obra ha tenido tantas versiones que son difíciles de rastrear, aunque el grupo tiene datos de países tan alejados como Vietnam y Angola en donde se ha adaptado. La investigadora teatral Marina Lamus destaca también el caso de un clásico de la literatura colombiana, 'María', de Jorge Isaacs, que se llevó al teatro en Montevideo, en 1922, y a la ópera en Barcelona, en 1924, con música de Guillermo Serra Roxlo.De nuestro nobel de literatura, Gabriel García Márquez, en Estados Unidos se han montado versiones teatrales de novelas como 'Crónica de una muerte anunciada, 'La cándida Eréndira y su abuela desalmada' y 'Crónica de una muerte anunciada', dirigida por Jorge Alí Triana, que también se montó en Perú.\\xa0-'Las tres preguntas del Diablo Enamorado', de Misael Torres, (Premio Nacional De Dramaturgia 1987), ha sido montada en México, en la Ciudad de Colima, y en Guayaquil (Ecuador).\\xa0Actualmente está siendo montada en Serena (Chile).-'La profesora Rosalba Scholasticus', de Rodrigo Rodríguez, fue adaptada en España por el grupo\\xa0Zálatta Teatro, bajo la dirección de\\xa0Telesforo Rodríguez.-'Los cinco entierros de Pessoa', de Juan Carlos Moyano. Antes de estrenar esta obra en Colombia, Moyano la montó en Lisboa con actores portugueses, cubanos y colombianos.\\xa0-'Viene nieve', de Enrique Lozano, en Teatro El Espion de Buenos Aires, Argentina (julio del 2018.)-'Otra de leche, Il tempo non si ferma, scompare', de Enrique Lozano, en el Teatro Sperimentale de Ancona, Italia (octubre del 2011).-'Los difusos finales de las cosas', de Enrique Lozano, en el Teatro de la ciudad de Monterrey, México (noviembre del 2014).-'Aviones de papel', de Diana Chery Ramírez, en La Tea Theater de Nueva York (junio del 2006) y en el Celcit de Buenos Aires (2012).Si conoce otros casos que puedan alimentar este ‘mapa mundi’ del teatro colombiano, envíelos al correo: yholoa@eltiempo.com YHONATAN LOAIZA GRISALESEL TIEMPOEn Twitter: @YhoLoaiza\""
      ]
     },
     "execution_count": 22,
     "metadata": {},
     "output_type": "execute_result"
    }
   ],
   "source": [
    "all_texts['texts'][2]"
   ]
  },
  {
   "cell_type": "code",
   "execution_count": 19,
   "metadata": {},
   "outputs": [
    {
     "data": {
      "text/plain": [
       "['by yhonatan loaiza on scribdel teatro colombiano se ha convertido en un producto apetecido en el exterior . no solo por los grupos que están en giras permanentes . sino por la tendencia de montar y traducir piezas de nuestros autores nacionales en otros países . hace poco . por ejemplo . se estrenó en uruguay una versión de de liebre . de fabio rubiano . en la prestigiosa comedia nacional . rubiano es uno de los autores más montados en el extranjero . y una de las piezas más recreadas es años sin cuenta . el clásico de la candelaria . esta obra ha tenido tantas versiones que son difíciles de rastrear . aunque el grupo tiene datos de países tan alejados como vietnam y angola en donde se ha adaptado . la investigadora teatral marina lamus destaca también el caso de un clásico de la literatura colombiana . . de jorge isaacs . que se llevó al teatro en montevideo . en y a la ópera en barcelona . en con música de guillermo serra nuestro nobel de literatura . gabriel garcía márquez . en estados unidos se han montado versiones teatrales de novelas como de una muerte anunciada . cándida eréndira y su abuela desalmada y de una muerte anunciada . dirigida por jorge alí triana . que también se montó en perú . . tres preguntas del diablo enamorado . de misael torres . premio nacional de dramaturgia . ha sido montada en méxico . en la ciudad de colima . y en guayaquil ecuador . actualmente está siendo montada en serena chile profesora rosalba scholasticus . de rodrigo rodríguez . fue adaptada en españa por el grupo zálatta teatro . bajo la dirección de telesforo rodríguez cinco entierros de pessoa . de juan carlos moyano . antes de estrenar esta obra en colombia . moyano la montó en lisboa con actores portugueses . cubanos y colombianos . . nieve . de enrique lozano . en teatro el espion de buenos aires . argentina julio del . de leche . il tempo non si ferma . scompare . de enrique lozano . en el teatro sperimentale de ancona . italia octubre del difusos finales de las cosas . de enrique lozano . en el teatro de la ciudad de monterrey . méxico noviembre del de papel . de diana chery ramírez . en la tea theater de nueva york junio del y en el celcit de buenos aires conoce otros casos que puedan alimentar este mapa mundi del teatro colombiano . envíelos al correo yholoa yhonatan loaiza grisalesel tiempoen twitter yholoaiza',\n",
       " 'después de lo que pareció una eternidad . tenerte entre mis brazos es la sensación más placentera que he tenido en la vida a ser maravilloso esto de ser mamá . me llenaste de luz y de paz . también of the dead . la violenta apuesta de netflix por los zombis así fue el mensaje que compartió en las redes sociales la actriz y estrella de tiktok . en su nueva experiencia como madre . la también presentadora y modelo reveló una hermosa imagen junto a su pareja juan david el pollo publicación compartida de valerie valeriedomi con una mirada tierna . ambos mostraron al pequeño thiago tras hacer un diario en su instagram de cada etapa de su embarazo . además casa de gabriel garcía márquez en méxico se convertiría en museo loco y maravilloso esto de ser mamá . me llenaste de luz y de paz . sentir tu cuerpo junto al mío me hace sentir viva y llena de magia . repetiría una y mil veces más todo con tal de sentir latir tu corazón junto al mío . thiagoecheverridominguez . bienvenido al mundo . te amamos hijo . gracias por elegirnos .']"
      ]
     },
     "execution_count": 19,
     "metadata": {},
     "output_type": "execute_result"
    }
   ],
   "source": [
    "results[\"cleaned_texts\"][0:2]"
   ]
  },
  {
   "cell_type": "code",
   "execution_count": null,
   "metadata": {},
   "outputs": [],
   "source": []
  }
 ],
 "metadata": {
  "interpreter": {
   "hash": "06d7fb825e30fdc508995ed0392d6bf0b2b6b5bef5c8c81484aca805376e9bcc"
  },
  "kernelspec": {
   "display_name": "Python 3.8.5 64-bit ('main': conda)",
   "language": "python",
   "name": "python3"
  },
  "language_info": {
   "codemirror_mode": {
    "name": "ipython",
    "version": 3
   },
   "file_extension": ".py",
   "mimetype": "text/x-python",
   "name": "python",
   "nbconvert_exporter": "python",
   "pygments_lexer": "ipython3",
   "version": "3.8.5"
  },
  "orig_nbformat": 4
 },
 "nbformat": 4,
 "nbformat_minor": 2
}
